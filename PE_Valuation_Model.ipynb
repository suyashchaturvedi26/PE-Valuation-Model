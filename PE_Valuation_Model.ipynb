{
  "nbformat": 4,
  "nbformat_minor": 0,
  "metadata": {
    "colab": {
      "name": "PE_Valuation_Model.ipynb",
      "provenance": [],
      "collapsed_sections": [],
      "toc_visible": true,
      "include_colab_link": true
    },
    "kernelspec": {
      "name": "python3",
      "display_name": "Python 3"
    },
    "language_info": {
      "name": "python"
    }
  },
  "cells": [
    {
      "cell_type": "markdown",
      "metadata": {
        "id": "view-in-github",
        "colab_type": "text"
      },
      "source": [
        "<a href=\"https://colab.research.google.com/github/suyashchaturvedi26/PE-Valuation-Model/blob/main/PE_Valuation_Model.ipynb\" target=\"_parent\"><img src=\"https://colab.research.google.com/assets/colab-badge.svg\" alt=\"Open In Colab\"/></a>"
      ]
    },
    {
      "cell_type": "code",
      "metadata": {
        "id": "ie1fqjGqJLKH"
      },
      "source": [
        "pip install beautifulsoup4"
      ],
      "execution_count": null,
      "outputs": []
    },
    {
      "cell_type": "code",
      "metadata": {
        "id": "ki3OpllVUT77"
      },
      "source": [
        "pip install html-table-parser-python3"
      ],
      "execution_count": null,
      "outputs": []
    },
    {
      "cell_type": "code",
      "metadata": {
        "id": "_csOPI-asjYB"
      },
      "source": [
        "pip install yfinance --upgrade --no-cache-dir"
      ],
      "execution_count": null,
      "outputs": []
    },
    {
      "cell_type": "code",
      "metadata": {
        "id": "7g0X1rwaUgTx"
      },
      "source": [
        "#importing all the necessary libraries\n",
        "import urllib.request\n",
        "from pprint import pprint\n",
        "from html_table_parser.parser import HTMLTableParser\n",
        "import pandas as pd\n",
        "import numpy as np\n",
        "import yfinance as yf\n",
        "import datetime"
      ],
      "execution_count": null,
      "outputs": []
    },
    {
      "cell_type": "code",
      "metadata": {
        "id": "Wqo5Sk0342L_"
      },
      "source": [
        "nifty_500=pd.read_excel('ind_nifty500list.xlsx')\n",
        "nifty_500['URL']='https://www.screener.in/company/'+ nifty_500['Symbol'] +'/consolidated/#profit-loss'\n",
        "nifty_500['Symbol']=nifty_500['Symbol']+'.NS'\n",
        "nifty_500"
      ],
      "execution_count": null,
      "outputs": []
    },
    {
      "cell_type": "markdown",
      "metadata": {
        "id": "qrs0hJyv8xLI"
      },
      "source": [
        "## **EPS FETCH**"
      ]
    },
    {
      "cell_type": "code",
      "metadata": {
        "id": "Io7NYcl8UtVk"
      },
      "source": [
        "def url_get_contents(url):\n",
        "    \n",
        "  \n",
        "    req = urllib.request.Request(url=url)\n",
        "    f = urllib.request.urlopen(req)\n",
        "\n",
        "    return f.read()"
      ],
      "execution_count": null,
      "outputs": []
    },
    {
      "cell_type": "code",
      "metadata": {
        "id": "9vthZZWCU4O7"
      },
      "source": [
        "def EPS(pos1,pos2):\n",
        "  \n",
        "  \n",
        "  EPS1=pd.DataFrame()\n",
        "  EPS2=pd.DataFrame()\n",
        "\n",
        "  for index,row in nifty_500.iterrows():\n",
        "    try:\n",
        "      xhtml = url_get_contents(row['URL']).decode('utf-8')  \n",
        "      p = HTMLTableParser()\n",
        "      p.feed(xhtml)\n",
        "\n",
        "      position1= p.tables[1][0].index(pos1)\n",
        "      position2= p.tables[1][0].index(pos2)\n",
        "\n",
        "      li_1=[p.tables[1][0][position1:],p.tables[1][11][position1:]]\n",
        "      li_2=[p.tables[1][0][position2:],p.tables[1][11][position2:]]\n",
        "      \n",
        "      a=pd.DataFrame(li_1).transpose()\n",
        "      a.columns=['Year','EPS']\n",
        "      a['Symbol']=row['Symbol']\n",
        "      a.replace(['TTM'],'Mar 2021',inplace=True)\n",
        "      a['Growth_Rate']=a['EPS'].astype(float).pct_change()\n",
        "      a['Current_EPS']=float(a['EPS'].iloc[-1])\n",
        "      EPS1=EPS1.append(a,True)\n",
        "\n",
        "      b=pd.DataFrame(li_2).transpose()\n",
        "      b.columns=['Year','EPS']\n",
        "      b['Symbol']=row['Symbol']\n",
        "      b.replace(['TTM'],'Mar 2021',inplace=True)\n",
        "      b['Growth_Rate']=b['EPS'].astype(float).pct_change()\n",
        "      b['Current_EPS']=float(b['EPS'].iloc[-1])\n",
        "      EPS2=EPS2.append(b,True)\n",
        "      \n",
        "    except:\n",
        "      continue\n",
        " \n",
        "  return EPS1,EPS2   \n",
        "\n",
        "\n",
        "EPS_7yrs,EPS_4yrs=EPS('Mar 2015','Mar 2018')\n",
        "\n",
        "EPS_7yrs['Helper']=EPS_7yrs['Symbol']+ \" \"+ EPS_7yrs['Year']\n",
        "EPS_4yrs['Helper']=EPS_4yrs['Symbol']+ \" \"+ EPS_4yrs['Year']   "
      ],
      "execution_count": null,
      "outputs": []
    },
    {
      "cell_type": "markdown",
      "metadata": {
        "id": "2JL1txv08fv6"
      },
      "source": [
        "## **MONTHLY DATA**"
      ]
    },
    {
      "cell_type": "code",
      "metadata": {
        "id": "YCmAXWFNEgjD"
      },
      "source": [
        "def Monthly_Stock_Price(st):\n",
        "  Stock_Price=pd.DataFrame()\n",
        "  end = datetime.datetime.now()\n",
        "  \n",
        "  for index, row in nifty_500.iterrows():\n",
        "    try:\n",
        "      data = (yf.download(row['Symbol'], start=st, end=end,interval='1mo')['Adj Close']).to_frame()\n",
        "      data['Symbol']=row['Symbol']\n",
        "      data = data[data['Adj Close'].notna()]\n",
        "      Stock_Price=Stock_Price.append(data)\n",
        "    except:\n",
        "      continue\n",
        "  \n",
        "  return Stock_Price\n",
        "\n",
        "\n",
        "Stock_Price_7yrs=Monthly_Stock_Price(datetime.datetime(2014,4,1))\n",
        "\n",
        "Stock_Price_4yrs=Monthly_Stock_Price(datetime.datetime(2017,4,1))"
      ],
      "execution_count": null,
      "outputs": []
    },
    {
      "cell_type": "markdown",
      "metadata": {
        "id": "nx6y4ua5RyYg"
      },
      "source": [
        "# **Data Preparing**"
      ]
    },
    {
      "cell_type": "code",
      "metadata": {
        "id": "uJplKjakhucM"
      },
      "source": [
        "def data_Prep(Stock_Price):\n",
        "  Stock_Price['Year']=Stock_Price.index.year\n",
        "  Stock_Price['Month']=Stock_Price.index.month\n",
        "  Stock_Price['Helper']='Mar'\n",
        "  Stock_Price['Year'] = np.where((Stock_Price.Month >3), Stock_Price.Year + 1, Stock_Price.Year)\n",
        "  Stock_Price['Helper']= Stock_Price['Symbol']+\" \"+Stock_Price['Helper'] + \" \" + Stock_Price[\"Year\"].astype(str)\n",
        "  Stock_Price.drop(columns=['Year','Month'],inplace=True)\n",
        "  Stock_Price.reset_index(inplace=True)\n",
        "  Stock_Price.head()\n",
        "\n",
        "  return Stock_Price\n",
        "\n",
        "\n",
        "Stock_Price_4yrs=data_Prep(Stock_Price_4yrs)\n",
        "Stock_Price_7yrs=data_Prep(Stock_Price_7yrs)"
      ],
      "execution_count": null,
      "outputs": []
    },
    {
      "cell_type": "code",
      "metadata": {
        "id": "F46hYqslilut"
      },
      "source": [
        "def Data_Merge(Stock_Price,EPS):\n",
        "  Final_Data=Stock_Price.merge(EPS,on='Helper',how='left')\n",
        "  Final_Data=Final_Data[Final_Data['EPS'].notna()]\n",
        "  Final_Data.drop(columns=['Helper','Symbol_y'],inplace=True)\n",
        "  Final_Data['P/E Ratio']=Final_Data['Adj Close'].astype(float)/Final_Data['EPS'].astype(float)\n",
        "  \n",
        "  return Final_Data\n",
        "\n",
        "Final_Data_7yrs=Data_Merge(Stock_Price_7yrs,EPS_7yrs)\n",
        "Final_Data_4yrs=Data_Merge(Stock_Price_4yrs,EPS_4yrs)"
      ],
      "execution_count": null,
      "outputs": []
    },
    {
      "cell_type": "code",
      "metadata": {
        "id": "lSY6-9FBsp1t"
      },
      "source": [
        "Grouped_Data_7yrs=Final_Data_7yrs.groupby('Symbol_x').mean()\n",
        "Grouped_Data_7yrs.drop(columns=['Adj Close'],inplace=True)\n",
        "Grouped_Data_7yrs.rename(columns={'P/E Ratio':'PE_7yrs'},inplace=True)\n",
        "\n",
        "\n",
        "Grouped_Data_4yrs=Final_Data_4yrs.groupby('Symbol_x').mean()\n",
        "Grouped_Data_4yrs.drop(columns=['Adj Close'],inplace=True)\n",
        "Grouped_Data_4yrs.rename(columns={'P/E Ratio':'PE_4yrs'},inplace=True)"
      ],
      "execution_count": null,
      "outputs": []
    },
    {
      "cell_type": "code",
      "metadata": {
        "id": "nj3gRnz_Cj4p"
      },
      "source": [
        "def best_case_scenario(df1,df2):\n",
        "  df=df1.merge(df2,left_index=True,right_index=True)\n",
        "  df['Projected EPS']=(1+ df['Growth_Rate'])*df['Current_EPS']\n",
        "  df['lb_target']=df['Projected EPS']*df['PE_7yrs']\n",
        "  df['ub target']=df['Projected EPS']*df['PE_4yrs']\n",
        "  df['fv_best']=(df['lb_target']+df['ub target'])/2\n",
        "  df['entry_best']=df['fv_best']*0.67\n",
        "  df=df[['fv_best','entry_best']]\n",
        "  \n",
        "  return df\n",
        "  \n",
        "\n",
        "best=best_case_scenario(Grouped_Data_7yrs,Grouped_Data_4yrs[['PE_4yrs']])"
      ],
      "execution_count": null,
      "outputs": []
    },
    {
      "cell_type": "code",
      "metadata": {
        "id": "wrtwqGJVGPTF"
      },
      "source": [
        "def neutral_case_scenario(df1,df2):\n",
        "  df=df1.merge(df2,left_index=True,right_index=True)\n",
        "  df['Projected EPS']=(1+ df['Growth_Rate']/2) * df['Current_EPS']\n",
        "  df['lb_target']=df['Projected EPS']*df['PE_7yrs']\n",
        "  df['ub target']=df['Projected EPS']*df['PE_4yrs']\n",
        "  df['fv_neutral']=(df['lb_target']+df['ub target'])/2\n",
        "  df['entry_neutral']=df['fv_neutral']*0.67\n",
        "  df=df[['fv_neutral','entry_neutral']]\n",
        "  \n",
        "  return df\n",
        "  \n",
        "\n",
        "neutral=neutral_case_scenario(Grouped_Data_7yrs,Grouped_Data_4yrs[['PE_4yrs']])"
      ],
      "execution_count": null,
      "outputs": []
    },
    {
      "cell_type": "code",
      "metadata": {
        "id": "690BxaFwGnK8"
      },
      "source": [
        "def poor_case_scenario(df1,df2):\n",
        "  df=df1.merge(df2,left_index=True,right_index=True)\n",
        "  df['Projected EPS']=(1- df['Growth_Rate']) * df['Current_EPS']\n",
        "  df['lb_target']=df['Projected EPS']*df['PE_7yrs']\n",
        "  df['ub target']=df['Projected EPS']*df['PE_4yrs']\n",
        "  df['fv_poor']=(df['lb_target']+df['ub target'])/2\n",
        "  df['entry_poor']=df['fv_poor']*0.67\n",
        "  df=df[['fv_poor','entry_poor']]\n",
        "  \n",
        "  return df\n",
        "  \n",
        "\n",
        "poor=poor_case_scenario(Grouped_Data_7yrs,Grouped_Data_4yrs[['PE_4yrs']])"
      ],
      "execution_count": null,
      "outputs": []
    },
    {
      "cell_type": "code",
      "metadata": {
        "id": "C-pX-OlLGl7c"
      },
      "source": [
        "def last_step(best,neutral,poor):\n",
        "  best=best.merge(neutral,left_index=True,right_index=True)\n",
        "  best=best.merge(poor,left_index=True,right_index=True)\n",
        "\n",
        "  best['QOQ+_FV']=(best['fv_best']+best['fv_neutral'])/2\n",
        "  best['QOQ+_Entry']=(best['entry_best']+best['entry_neutral'])/2\n",
        "\n",
        "  best['QOQ-_FV']=(best['fv_best']+best['fv_neutral']+best['fv_poor'])/3\n",
        "  best['QOQ-_Entry']=(best['entry_best']+best['entry_neutral']+best['entry_poor'])/3\n",
        "\n",
        "  best=best[['QOQ+_FV','QOQ+_Entry','QOQ-_FV','QOQ-_Entry']]\n",
        "  \n",
        "  return best\n",
        "\n",
        "df_final=last_step(best,neutral,poor)\n",
        "df_final"
      ],
      "execution_count": null,
      "outputs": []
    }
  ]
}